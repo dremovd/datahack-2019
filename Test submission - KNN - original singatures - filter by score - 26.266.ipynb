{
 "cells": [
  {
   "cell_type": "code",
   "execution_count": 1,
   "metadata": {},
   "outputs": [],
   "source": [
    "import os\n",
    "import numpy as np\n",
    "import pickle as pkl\n",
    "from data import read_signatures\n",
    "from data import read_pose\n",
    "from utils import enumerate_paths\n",
    "from utils import split_by\n",
    "from solution import train_test_split\n",
    "from evaluate import evaluate"
   ]
  },
  {
   "cell_type": "code",
   "execution_count": 2,
   "metadata": {},
   "outputs": [],
   "source": [
    "sigs_path = 'data/signatures.pkl'\n",
    "test_sigs_path = 'data/signatures_test.pkl'"
   ]
  },
  {
   "cell_type": "code",
   "execution_count": 3,
   "metadata": {},
   "outputs": [],
   "source": [
    "train_paths, train_features = read_signatures(sigs_path)\n",
    "test_paths, test_features = read_signatures(test_sigs_path)"
   ]
  },
  {
   "cell_type": "code",
   "execution_count": 4,
   "metadata": {},
   "outputs": [
    {
     "name": "stderr",
     "output_type": "stream",
     "text": [
      "/opt/anaconda3/lib/python3.7/site-packages/sklearn/externals/joblib/__init__.py:15: DeprecationWarning: sklearn.externals.joblib is deprecated in 0.21 and will be removed in 0.23. Please import this functionality directly from joblib, which can be installed with: pip install joblib. If this warning is raised when loading pickled models, you may need to re-serialize those models with scikit-learn 0.21+.\n",
      "  warnings.warn(msg, category=DeprecationWarning)\n"
     ]
    }
   ],
   "source": [
    "from sklearn.externals import joblib\n",
    "\n",
    "mean_scores = joblib.load('mean_scores.dump')"
   ]
  },
  {
   "cell_type": "code",
   "execution_count": 5,
   "metadata": {},
   "outputs": [],
   "source": [
    "threshold = -0.5\n",
    "# -0.7 -> 25.75682382133995\n",
    "# -0.6 -> 25.725806451612904\n",
    "# -0.5 -> 26.265508684863523\n",
    "# -0.4 -> 25.53349875930521"
   ]
  },
  {
   "cell_type": "code",
   "execution_count": 6,
   "metadata": {},
   "outputs": [
    {
     "data": {
      "text/plain": [
       "(0.9612984182544662, 0.9397962675900389)"
      ]
     },
     "execution_count": 6,
     "metadata": {},
     "output_type": "execute_result"
    }
   ],
   "source": [
    "train_good = np.array([mean_scores[path] >= threshold for path in train_paths])\n",
    "test_good = np.array([mean_scores[path] >= threshold for path in test_paths])\n",
    "np.mean(train_good), np.mean(test_good)"
   ]
  },
  {
   "cell_type": "code",
   "execution_count": 7,
   "metadata": {},
   "outputs": [],
   "source": [
    "train_paths = np.array(train_paths)[train_good]\n",
    "train_features = np.array(train_features)[train_good]"
   ]
  },
  {
   "cell_type": "code",
   "execution_count": 8,
   "metadata": {},
   "outputs": [],
   "source": [
    "test_paths = np.array(test_paths)[test_good]\n",
    "test_features = np.array(test_features)[test_good]"
   ]
  },
  {
   "cell_type": "code",
   "execution_count": 9,
   "metadata": {},
   "outputs": [],
   "source": [
    "person_ids, video_ids, seq_ids = enumerate_paths(train_paths)"
   ]
  },
  {
   "cell_type": "code",
   "execution_count": null,
   "metadata": {},
   "outputs": [],
   "source": []
  },
  {
   "cell_type": "code",
   "execution_count": 10,
   "metadata": {},
   "outputs": [
    {
     "data": {
      "text/plain": [
       "6220"
      ]
     },
     "execution_count": 10,
     "metadata": {},
     "output_type": "execute_result"
    }
   ],
   "source": [
    "test_video_ids = [int(x.split('/')[0].split('_')[-1]) for x in test_paths]\n",
    "len(np.unique(test_video_ids))"
   ]
  },
  {
   "cell_type": "code",
   "execution_count": 11,
   "metadata": {},
   "outputs": [
    {
     "data": {
      "text/plain": [
       "(432, 432)"
      ]
     },
     "execution_count": 11,
     "metadata": {},
     "output_type": "execute_result"
    }
   ],
   "source": [
    "def split_by(data, person_ids, video_ids):\n",
    "    sections = np.where(np.diff(video_ids, 1))[0] + 1\n",
    "    data_splits = np.split(data, sections)\n",
    "    pids = np.split(person_ids, sections)\n",
    "    cids = np.split(video_ids, sections)\n",
    "    data_train, y_train = [], []\n",
    "    \n",
    "    for pid, cid, data_video in zip(pids, cids, data_splits):\n",
    "        pid = pid[0]\n",
    "        cid = cid[0]\n",
    "        \n",
    "        data_train.append(data_video)\n",
    "        y_train.append(pid)\n",
    "            \n",
    "    return data_train, np.array(y_train)\n",
    "        \n",
    "X_train, y_train = split_by(train_features, person_ids, video_ids)\n",
    "len(X_train), len(y_train)"
   ]
  },
  {
   "cell_type": "code",
   "execution_count": 12,
   "metadata": {},
   "outputs": [
    {
     "data": {
      "text/plain": [
       "(6220, 6220)"
      ]
     },
     "execution_count": 12,
     "metadata": {},
     "output_type": "execute_result"
    }
   ],
   "source": [
    "X_test, y_test = split_by(test_features, test_video_ids, test_video_ids)\n",
    "len(X_test), len(y_test)"
   ]
  },
  {
   "cell_type": "code",
   "execution_count": 13,
   "metadata": {},
   "outputs": [],
   "source": [
    "del train_features\n",
    "del test_features"
   ]
  },
  {
   "cell_type": "code",
   "execution_count": 14,
   "metadata": {},
   "outputs": [
    {
     "data": {
      "text/plain": [
       "80"
      ]
     },
     "execution_count": 14,
     "metadata": {},
     "output_type": "execute_result"
    }
   ],
   "source": [
    "import gc\n",
    "gc.collect()"
   ]
  },
  {
   "cell_type": "code",
   "execution_count": 15,
   "metadata": {},
   "outputs": [],
   "source": [
    "videos_objects_size = 25\n",
    "def split_videos(X, y, videos_objects_size):\n",
    "    data = []\n",
    "    labels = []\n",
    "    for x, label in zip(X, y):\n",
    "        sample_size = videos_objects_size\n",
    "        count = (x.shape[0] - 1) // videos_objects_size + 1\n",
    "        for i in range(count):\n",
    "            x_sample = x[i * sample_size:(i + 1) * sample_size]\n",
    "            x_sample = np.mean(x_sample, axis=0)\n",
    "\n",
    "            data.append(x_sample)\n",
    "            labels.append(label)\n",
    "            \n",
    "    data = np.row_stack(data)\n",
    "    labels = np.array(labels)\n",
    "    return data, labels"
   ]
  },
  {
   "cell_type": "code",
   "execution_count": 16,
   "metadata": {},
   "outputs": [
    {
     "data": {
      "text/plain": [
       "((6045, 2048), (6045,))"
      ]
     },
     "execution_count": 16,
     "metadata": {},
     "output_type": "execute_result"
    }
   ],
   "source": [
    "train_data, train_labels = split_videos(X_train, y_train, videos_objects_size)\n",
    "train_data.shape, train_labels.shape"
   ]
  },
  {
   "cell_type": "code",
   "execution_count": 17,
   "metadata": {},
   "outputs": [
    {
     "data": {
      "text/plain": [
       "KNeighborsClassifier(algorithm='auto', leaf_size=30, metric='minkowski',\n",
       "                     metric_params=None, n_jobs=8, n_neighbors=20, p=2,\n",
       "                     weights=<function weights at 0x7fd722a76290>)"
      ]
     },
     "execution_count": 17,
     "metadata": {},
     "output_type": "execute_result"
    }
   ],
   "source": [
    "from sklearn.neighbors import KNeighborsClassifier\n",
    "\n",
    "def weights(distances):\n",
    "    return distances ** (-2)\n",
    "\n",
    "params = {\n",
    "    'p': 2,\n",
    "    'n_neighbors': 20,\n",
    "    'weights': weights,\n",
    "}\n",
    "model = KNeighborsClassifier(**params, n_jobs=8)\n",
    "model.fit(train_data, train_labels)"
   ]
  },
  {
   "cell_type": "code",
   "execution_count": 18,
   "metadata": {},
   "outputs": [
    {
     "data": {
      "text/plain": [
       "(11830, 2048)"
      ]
     },
     "execution_count": 18,
     "metadata": {},
     "output_type": "execute_result"
    }
   ],
   "source": [
    "test_data, _ = split_videos(X_test, y_test, videos_objects_size)\n",
    "test_data.shape"
   ]
  },
  {
   "cell_type": "code",
   "execution_count": 19,
   "metadata": {},
   "outputs": [],
   "source": [
    "p_test = model.predict_proba(test_data)"
   ]
  },
  {
   "cell_type": "code",
   "execution_count": 20,
   "metadata": {},
   "outputs": [],
   "source": [
    "def average_predictions_split(X, p_all, videos_objects_size, f=np.mean):\n",
    "    def count(x):\n",
    "        return (x.shape[0] - 1) // videos_objects_size + 1 \n",
    "    sections = np.cumsum([count(x) for x in X])[:-1]\n",
    "    p_splitted = np.split(p_all, sections, axis=0)\n",
    "    return np.row_stack([f(p, axis=0) for p in p_splitted])"
   ]
  },
  {
   "cell_type": "code",
   "execution_count": 21,
   "metadata": {},
   "outputs": [],
   "source": [
    "p_test_grouped = average_predictions_split(X_test, p_test, videos_objects_size, f=np.mean)\n",
    "ranking = (p_test_grouped).argsort(axis=1)\n",
    "submission = [line.tolist() for line in ranking[:, :-6:-1]]"
   ]
  },
  {
   "cell_type": "code",
   "execution_count": 22,
   "metadata": {},
   "outputs": [
    {
     "data": {
      "text/plain": [
       "[68, 100, 36, 27, 28]"
      ]
     },
     "execution_count": 22,
     "metadata": {},
     "output_type": "execute_result"
    }
   ],
   "source": [
    "from collections import Counter\n",
    "\n",
    "best_constant = list(Counter(map(tuple, submission)).most_common(1)[0][0])\n",
    "best_constant"
   ]
  },
  {
   "cell_type": "code",
   "execution_count": 23,
   "metadata": {},
   "outputs": [],
   "source": [
    "predicted_ids = np.unique(test_video_ids)"
   ]
  },
  {
   "cell_type": "code",
   "execution_count": 24,
   "metadata": {},
   "outputs": [],
   "source": [
    "submission_predicted = dict(zip(predicted_ids, submission))"
   ]
  },
  {
   "cell_type": "code",
   "execution_count": 25,
   "metadata": {},
   "outputs": [],
   "source": [
    "total_test_count = 6335"
   ]
  },
  {
   "cell_type": "code",
   "execution_count": 26,
   "metadata": {},
   "outputs": [],
   "source": [
    "for i in range(total_test_count):\n",
    "    if i not in submission_predicted:\n",
    "        submission_predicted[i] = best_constant"
   ]
  },
  {
   "cell_type": "code",
   "execution_count": 27,
   "metadata": {},
   "outputs": [],
   "source": [
    "submission_final = [submission_predicted[i] for i in range(total_test_count)]"
   ]
  },
  {
   "cell_type": "raw",
   "metadata": {},
   "source": [
    "from collections import defaultdict\n",
    "label_order = defaultdict(list)\n",
    "\n",
    "for index, labels in enumerate(submission_final):\n",
    "    for l in labels:\n",
    "        label_order[l].append(index)\n",
    "\n",
    "for label, indices in label_order.items():\n",
    "    print(label, np.mean(indices), len(indices))"
   ]
  },
  {
   "cell_type": "code",
   "execution_count": 28,
   "metadata": {},
   "outputs": [
    {
     "name": "stdout",
     "output_type": "stream",
     "text": [
      "{'member': 'Solo', 'rank': 10, 'score': 26.265508684863523}\n"
     ]
    }
   ],
   "source": [
    "from evaluate import submit\n",
    "submit('Solo', submission_final)"
   ]
  },
  {
   "cell_type": "code",
   "execution_count": null,
   "metadata": {},
   "outputs": [],
   "source": []
  }
 ],
 "metadata": {
  "kernelspec": {
   "display_name": "Python 3",
   "language": "python",
   "name": "python3"
  },
  "language_info": {
   "codemirror_mode": {
    "name": "ipython",
    "version": 3
   },
   "file_extension": ".py",
   "mimetype": "text/x-python",
   "name": "python",
   "nbconvert_exporter": "python",
   "pygments_lexer": "ipython3",
   "version": "3.7.4"
  }
 },
 "nbformat": 4,
 "nbformat_minor": 2
}
